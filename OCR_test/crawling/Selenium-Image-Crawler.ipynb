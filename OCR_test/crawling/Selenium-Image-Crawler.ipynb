{
 "cells": [
  {
   "cell_type": "code",
   "execution_count": 1,
   "metadata": {},
   "outputs": [],
   "source": [
    "from selenium import webdriver\n",
    "from PIL import Image\n",
    "from io import BytesIO\n",
    "import requests\n",
    "from bs4 import BeautifulSoup\n",
    "import os\n",
    "import time\n",
    "import sys"
   ]
  },
  {
   "cell_type": "markdown",
   "metadata": {},
   "source": [
    "# 네이버 쇼핑 URL에서 카테고리에 맞는 각 href를 수집"
   ]
  },
  {
   "cell_type": "code",
   "execution_count": 34,
   "metadata": {},
   "outputs": [
    {
     "name": "stdout",
     "output_type": "stream",
     "text": [
      "Wall time: 6.2 s\n"
     ]
    }
   ],
   "source": [
    "%%time\n",
    "verbose = 1\n",
    "keyword = '맨투맨'\n",
    "male_cat_id = 50000830\n",
    "female_cat_id = 50000803\n",
    "page = 1\n",
    "male_shop_url = f'https://search.shopping.naver.com/search/all.nhn?origQuery={keyword}&pagingIndex={page}&pagingSize=40&viewType=list&sort=rel&cat_id={male_cat_id}&frm=NVSHCAT&query=%EB%A7%A8%ED%88%AC%EB%A7%A8'\n",
    "female_shop_url = f'https://search.shopping.naver.com/search/all.nhn?origQuery={keyword}&pagingIndex={page}&pagingSize=40&viewType=list&sort=rel&cat_id={female_cat_id}&frm=NVSHCAT&query=%EB%A7%A8%ED%88%AC%EB%A7%A8'\n",
    "\n",
    "driver_path = './geckodriver.exe'\n",
    "# 환경변수에 추가\n",
    "sys.path.append(driver_path)\n",
    "options = webdriver.FirefoxOptions()\n",
    "\n",
    "#options.add_argument('--headless')\n",
    "options.add_argument('--no-sandbox')\n",
    "options.add_argument('--disable-dev-shm-usage')\n",
    "options.add_argument('user-agent=Mozilla/5.0 (Windows NT 6.1; WOW64; Trident/7.0; rv:11.0) like Gecko')\n",
    "\n",
    "browser = webdriver.Firefox(executable_path=driver_path, options=options)\n",
    "browser.get(male_shop_url)\n",
    "# 페이지 가지고올 수 있게 최대 15초까지 기다림 \n",
    "browser.implicitly_wait(15)"
   ]
  },
  {
   "cell_type": "code",
   "execution_count": 35,
   "metadata": {},
   "outputs": [
    {
     "name": "stdout",
     "output_type": "stream",
     "text": [
      "Wall time: 554 ms\n"
     ]
    }
   ],
   "source": [
    "%%time\n",
    "html = browser.page_source\n",
    "soup = BeautifulSoup(html, 'html.parser')"
   ]
  },
  {
   "cell_type": "code",
   "execution_count": 36,
   "metadata": {},
   "outputs": [],
   "source": [
    "goods_list = soup.select_one('ul.goods_list').find_all('div', {'class':'info'})"
   ]
  },
  {
   "cell_type": "code",
   "execution_count": 37,
   "metadata": {},
   "outputs": [
    {
     "data": {
      "text/plain": [
       "44"
      ]
     },
     "execution_count": 37,
     "metadata": {},
     "output_type": "execute_result"
    }
   ],
   "source": [
    "len(goods_list)"
   ]
  },
  {
   "cell_type": "code",
   "execution_count": 60,
   "metadata": {},
   "outputs": [
    {
     "name": "stdout",
     "output_type": "stream",
     "text": [
      "단체 맨투맨 아동용 성인용 쮸리 단체맨투맨\n",
      "https://adcr.naver.com/adcr?x=8lXuGmodWfzIgISwZ7d4s////w==krZvHSi6MB2DhdBbPVGzJzPEYzYv6z2gUkkSkiEnRZIcFDpZO1s25CWtAB25dBmMSRABtN/fl2Ap29xvPwWbUu8ikHs1iNKjItWJRM0kV1xmovNG3d26WZIlpZp3KAlOa6d1/ilZQz9pGphgnGwVta/njXALWLaCDo5UC9Cf3U75XFPzb9w3TABYMCK8mgPpFO2K/UGer5NH3noDBvx4zvBtpxvndr6AqdqUbZK2rqtgBciyCCBIyCMYqmYkXnjQSIvJK6sLfDSzDWs3tWncmtLpvcm7f615EyqzqNU1T19KSAsbQvOfZIlJX4yoXvgApZtqNtTk8W/MzCFss8kvq9G1T/nJtH/APpw1ePrGbeyj72toxAQcGVED90aos5HgBYdQLPzkT9lLMG9oBsIKCzx3Pk/z6ZCMmNxwIfqmp+u8rP6Xe1vyKBkgEfUO75HwEb7Xdlp/G9Ig4AFaG6JsSpquK43LOOynX2gWQqxCJ0f0RA9BxzptHxpFD7ellwI8J8Cp2UnZetttQt9Pz9azkV6dcvDRiUbMHzJua8SVAN+ntiK8oBXCQzKoI/QQ+NwGLbcGbWLdeTBvIzbp9UFlaAjuNm8o8I5NKzKPZeeAtai2eEjm3n0qjGHpQfNg7YUpYWG8uz9RMlYg57HfXxJrgx8GhdwUd7p6V6lQm20IrERruXzhXBo2cbT4orm2rpYvQuN1KLEPRwImHTMzucHnKLhB+02gvoNjfcPcMv+4dbQdUZ/+LQJYabMThrK7FjIqVfDIyg6Euoe9ByAZyuzlu2AvUp/rNoljLd8oMHTYYxo2N0ndv+cEppWtbRTgo0lz4Qn5Ihck2oit2lSxzT8Xb0Anj2N/H8kLV07Re+hyGCRU7zJr5aXCBJzNZ0/vIN6xRKQ3DmDzNLb3o1TEFEXjIZA==\n",
      "--------------------------------------------------\n",
      "단체 기모맨투맨 단체의류 제작맨투맨 다양한컬러\n",
      "https://adcr.naver.com/adcr?x=Pp1kPt1B9lfEoOvktNMgdf///w==kpI4bxKYZsqsfy+fgNUWuTFWKxS4Pu36bwRK7dYJ6Pe4wepnSidN8wmq92OeQEigC9wQ4Hjc8PYd5EtdGrZVbFX6A38nfQj9YrCBuv37U5twBKooShA9+0/8TnCRG3JXivFXITx0mUdlSnQjM42gyqEsypk+iAbwivKmfiTavudOLOLqr8TgGdm1Eqt+jA9m8WJbPblsNVnGDJsa3BP5GisodA09DL6P1Diq6fg4R+Ogx37I1qXRl6S69cYNas7MeLEJrSmoJR8fUy5kFurQ/g2AAXWQhFpmnhAbNZR965On4LmGrtOZZOmz7swjU5GZo27UhAH7WzFMcvFPhRZLrBr0jeHEVk3Utr/km36B0DJx8iQO+B1vdYTqrzALFuO/3kd9AYFTnziGAc7tg7bMMUUPRoDgMWhg63yqvOo/8548NsKxxK1SJ8XOZQGncWtrwR6Hnz9kX8pyjVbEqOeAbwQNBXPz9dPU3+aW8lgJuMw2b8ooVPjw8dlDqVRmM+zU56qTTkrIOeZU5TJY6TtQ4BaALBxRD0gJd/qR54mBQtQA/e0FBpfJyABbZ7KAt2H5wgUEhsjmI2sRUT8yoCUAB2rtyr8GebP+a+6WkWaxCuY5DVZVWs9lvy22yrFUHbdv7h0i7atKphpOn+t/Vk5Jrjy58sMhtwCeHATJCe2/KiCcV1jUp3hYhUtLdAOp4x7EJ7y2C57E51l5VGzL9SsObVsa376+j0AB8avMUeYs/IlxQvpDkwmusiP1NQlIZDg3TWig754SxRoD458+dGe71serIKbxX17KBxv/MkzGSgdGDgMGbFiI0C7cg0CmrzhccVd9MJO5cm/7klt6q+9eliRkONTGS/rblIjPNNIVg9YKKOyOcs8aORSNXlNZr43JMzwJd0m/NrccVyyd7+CoDvg==\n",
      "--------------------------------------------------\n",
      "칼하트WIP 맨투맨 SCRIPT EMBROIDERY SWEATSHIRT\n",
      "https://adcr.naver.com/adcr?x=QrtMruQnsppsDkx9cTbdAv///w==kBEFHcBNDZz98ZQHaFjBriCz+04upmFJwn2lEB4dFpemrLskVGNsJQacrf7mFj5eMEJQuwL0BGG0KCjr10pjjH0qSKuAHxptLvcTznjPUegmzmjkucFFNKfO16KWyFnCrVB6csxv/sffXBPQgnHTNel8RAdbOktbLHF7fBqb4bFTvFkXpjK7pVZQsYCD5pGyQ1Bkh2gs1DRXxUuJKNSe48JEF0fiFQ04sOV6m1CmZlCuufy13gcNYtp003UGSaeS414AKJqsUtuP+mQr5sMIH+b8G5iS/q9isCtz+Go+LhHFbuDa15OzBjL+9jqa1YteEip3Oy6UFEk1cyk3mIIvBKQ7+E7uOOfD1kwSOJh9NLDZpHSOTP1RIjykKpULq9DNl6H4EnCae9ZzKJimGd6tidkeafMzXEV/WvfJ4i+sz1IifSwDe94u3s+Gbd4ZexQG1nEGYwMhwXQYQ8JG0RknOHokv8wdBzSYRkU9jTqvnOevlA9ZRa44bE92Zl7o69mcfH8ZazrrfNQu6vY2XmFR5OzKP0Rg7EjtAGiXfpXcdXV6wVcZ5DUt+6WJJcX0uv0klsDzUFJ/YACerYQ2DxsH2UE6WDdqd9vGnOdqbNzBHtfQVqvCPjODP+JSGF9f83Qo0U5fyxn/YtY+uOAynDl7wtvcFPvgCuVbWPQF8JakAeAjhHP2HfEyhc/TB1PrIpeFX/kUC3F5EL3ItHh9ZSuv0qJ1O5N6eDmd13uQ7jy+c/ZjDX9TV0jGB1spLDQKDkul+ti0zNJDmFzum7R53I3SwebjJ5TJ9sdvlNi4oL4aXVUQgPlJIBmcDeVjWy9XSRYXK\n",
      "--------------------------------------------------\n",
      "칼하트WIP 맨투맨 SCRIPT EMBROIDERY SWEATSHIRT\n",
      "https://adcr.naver.com/adcr?x=WSQF2SGeA4XBWRwlUoGOXf///w==kV65mVrntBcgvAjSC2ZdKwaski8GB7wGUPqlSb7pN0snydGZoczmvPu5jwmlbTpwwut54tuW9QNBZXdoDsGVONIRLsmsm0xc4/LiL+kniBolkzs75f5eBFIuAbWLj3CFmV7f4EBLg/Ngn+I1Isur6/GvfZQRx0Q1BO+Mjp4F2YpXE17aqprYXNv8loiAtoL39rIlHehFm3Q2/K5o5DuJfQbbrBReQQixwp4aDCaNYX+ejPDty3SO26S7H/bujNO6qNOayvOX9p/ISPV+mBW8Nkuo1JDN9635V9fGPsApMworfth/F48LWmzGCkJ2gSXLm4lnVbIFd4Jqsd5vj6mqRZUemPkIftnvvvxfuhmYeBre7keYU9LFWIT2M/OMz1YvilkaxnapZiS7V/hxuobsUKKHfiYBSIHL6hf9MbCAzV54V8JqY0+6ec8DB5/gX341qTiglCRKTUJAj1YyVAB+Kf9uAor57xItDPQ6+YY5bwdA9Fl+HMwnBy9zAx7l7fSkFBAxvpMRI2Vd1pICPxOTXS7upVWI5qg8t1gzDR/C1iQrQNauRTwuOvqXzXtChgujZ8qJsIPNPWxmNclvTNRY5urJqVAOWzU/g6hlHbggpTeL4tj7sKiXskcorQnZr64h8ParCV0oo0sMpuQSOlwzTUnwDXlgVZCtpODVyD7AliXHZcIEfWighFdTo/EFS9dMTrDOXTpn2pTWO19fkkQmJ6rPHnIkN31mGcjwmne3jQfPMnsw9VO/ZDzhHmCzPirivuA7oZzJHWoKOBNK7FISyO+yrYyiod+DSCy6Yhvp8I3DFYgO3rX64uSwDBbLKUZ84\n",
      "--------------------------------------------------\n",
      "스톤아일랜드 19SS 와펜 맨투맨 블랙 8컬러 62751\n",
      "http://cr2.shopping.naver.com/adcr.nhn?x=i1VHhjl6h4wKfBoGqC3Sy%2F%2F%2F%2Fw%3D%3DsLi9emN6BMgZn0ZmTMkpIOmYEwPgiL5WScgkQ5Mf%2Ff3Gfs04n%2BI74FH%2B1k4ttfK8NafGsTetPF09yH9lHeuDyOtnFmcC5r7pByd7m3UNhnId3y2fBOpuleoiHezvpTXp7iiC6F879yD5tJkGmLGlX4kSIubQx87Eao%2BbIHclg669CCTxEYumlfmS0CSfIhc3rW2WZPCRXxEoGD7XLP8GxtYW8mf5%2FPrWM9cbzfPrBAAVul%2FynqTfbHBzPrLXMYbFf2pQeyAcpGrN3qdfeNy9TA0DInQTllngnA1yNWKSkSS%2BYcYJGcMIP%2Bz2Gi9L63WAmLaWfdy%2FSGmkPei17SwGPJ9IadPfkXNP%2FAhLsedZ7b1B4bC65oqRtuLsGRgnbVhst9ZZ5MogO4eAjPELQMdOxEilMigf39V2iRobwMmfN3e4f2yKYZpCKL2E3t%2FpblRW%2F6A8S9UgH8T1lrsI%2FSkDYFnrVCUcOi5OXdTMKbWN0R0tYq4zYYoogORkMpaTh0DRF8mXEexW%2Fc6NlFkfc1sqBS11KZo07PJsmUxBQF30s5RvrXkZOKSPD%2F9WYr8vvijbBdwv6c9S0tfYhz5O1TDUX3Z0rTecD%2BLffAS1Ir5djz%2BXOFuMYeAHk1ZavQeuW%2F5Gry5eeAy5nIdW%2Fes2VxDpiIA5w4SaoCpb%2Fcvrk4ndQ%2F3njR5Cvb8i9kpjTIDof1myXh%2BkR4Mf1DZwAdA%2Fydr%2F3IA%3D%3D&nv_mid=81468169684&cat_id=50000830\n",
      "--------------------------------------------------\n",
      "뉴비스 남녀공용 베이직 무지 맨투맨 반팔 티셔츠 SO014MT\n",
      "http://cr2.shopping.naver.com/adcr.nhn?x=c6tlbOH68xNjGTz2%2FhVOxv%2F%2F%2Fw%3D%3DsyOZADrZSUMfg2dEp2VUMoxNDSrHzrperYSMG%2FtQnhf%2FTVdaB6YbLBKPtG2s2qggi8GUYkOFv05vlL0jsdTV5H4MgchLxQubICSMqJaXO6EmHEwAHWDcQnsqV5cSyAbHvXZ2qGx6C2odDfNWw%2BY2EmZpBDT9g0vi2eUYP4Mg%2B3npT8hWzr%2Fx6yYt8Yj%2FzlqkQvDH1bu8YThyNr0V8TNeEDl1zqG9wck3%2FrB%2BbDxc%2BcO6NyQ29mAZUk8gqPsND4WCqHd8gEw9lzl%2BRKFP4AUtntEbpbGYvomUslDXkgI4AksFIFvnxuIzpmKKv7%2BNaC1MeqyJiaDIpWsHLxo8DQPbHJkJhWX8jAtTO1TkMACT6nxQEsGIiWeAWUtLSOAn3sFDzh2FJJGRhLtrB1j%2BbdlI%2FYCCKSCCwcm46R5hyIXVZHjPT%2Fr%2FXtR2Ml1PXZ8XvTJ%2BuaWn8tWs7vSz%2BFFt7uwsU0CQFT5mGHKHYN7kikbVOYaSy%2Fo4ZEwt66rBhVDLUzMcXfOm%2FrK1oA9qu9rKYMwRBvwCmXTGna5kuJsXTSqNWDQIextUv7RO4tJ32uCfYmWGV5M99xnoSaTGeo0d8KANvtSoEXfqntX8fFwilmUX0RUrFBRTBRZQ6NmciWnRkL3wif0H3i5ApjER7tccIGFQcKVdQ2jo0%2F7Eu%2Bo5kE2PHqnujIvbDcGl7o3BDXSBTe%2BEuv5Yf3mkCOP%2BYcIbddjcgG435pWauaFyvpvG16RwouyM%3D&nv_mid=11401208771&cat_id=50000830\n",
      "--------------------------------------------------\n",
      "지오지아 박서준 2019 S/S 셔츠/티셔츠/맨투맨 20종 1+1 이벤트\n",
      "http://cr2.shopping.naver.com/adcr.nhn?x=l%2Bp777oUEJ%2F6scix2S4enf%2F%2F%2Fw%3D%3Ds5JMw21LSELzQvQJWYXHwEsWiFbEi6ahu2lIWb1YR88NvaaxeO8qxNqKiDtC286eMUXe3%2Fh3Os4Y1wZJTFUkNkNQ6m8mPLIl4hiKItCiSAQ4gMLzEVRx63bWH5KLCGlsdIdiwy5z3JIBTNoG7tY7Ay8lkuMqcg6YNoQAy6BDIhW0R%2BFkNMF%2FvIP5bdokZmLiuxn5szdHsdo1GLzsshy%2FAcDD2JqEN2WHomTl0%2BwxcwQqMBqiKf4F7aLHxGJUWXWdbYznLBM1u%2BQNSrjTdvceuY6%2FVCjt8zcn979WGePkmNB4%2B9HlLcwcwL7lf0hB9OqQaOc9FSa430WTxfnvnqeGbZ9fY0nzAcHoKTN24gPiQnpPyy5M5lJxB10FFabWI0WyTnsi75QkeZJJHRtZZmyLkju0O6n3K0OffkdyyHvaK%2F92TjxtAw%2B%2BJxQRtd2PlVGWoW4IMdMXDHlFRIls9iMIwK6MppI2xDxsUJtCyxwTeHhlQv5iYgAhjbsMSG6Q8Gzlcunj8GD6%2BMh03eYODjJ14RXXlRmx7DLXYJrkMaUtgC%2FHma9ClW7DLBnAHn52zW9iyeexqxtWXScY0KpEitmCG50KbYbNwRMI%2BQwGNoigwBQ%2Fx%2Fm%2BmDn4gNGWAyIhPUQR6UWVcXg04Z6yTfn0gQ0zjDMCmqCL9%2BJily5lgJtq2mMGmnyGTeknEvRnzGIX7%2FyWTfUlj6UQfN%2BYNX4BNMCuxXOM4%2BXU%2BZOclyE5CHPQ%2FZoQHDdv7nHTGI3GwnDGRbgOr&nv_mid=82015815214&cat_id=50000830\n",
      "--------------------------------------------------\n",
      "사막여우 후드티 후드집업 맨투맨 빅사이즈 무지 남녀공용 기모 오버핏\n",
      "http://cr2.shopping.naver.com/adcr.nhn?x=gKrG6PPiFY5UTnlBbNcfz%2F%2F%2F%2Fw%3D%3DsiE8hhoQgzQcKU29GBrkS0i9s6NEoNL0gm%2FRMb%2BocI17TVdaB6YbLBKPtG2s2qggilsb%2FZrY%2BOcKXdkcSbI7hCQDWnOsWHsUbSFrnCLmJD0AhFmZ9U%2BndbrXoU4ZX5d6u%2FQ5Q62Onjpd5kZ3Tupj34ppBDT9g0vi2eUYP4Mg%2B3npT8hWzr%2Fx6yYt8Yj%2FzlqkQzzXMe22h%2FplexVGiP5WuEyT3MJEI2uyyFV3J00oc77jdODZHLS8csmEgCKH0QHz6gshoeuXggTVhd9iyPBesjsNjbvXN3Wxiau0h6XZ2dyxjGKHYM18PQsGOOKjjvcAsQzXoVhb7Bk97e1AUL1pmijCQQjZLC01dqj2VMK931GMWGrR7o3O3LOCfDlYReCdCINb23fP3u0LXMhKkLJJumAp3Ynv3pAKKvh0d0xpOBlX0lEfh5Hnm0gTYUTShVzOMQpGM5lm4Hup%2BtJK5XT85Pxp33VDeIkQ4fe4dhFMRJdn6aOhMvrQAjRw7AkVtKf7eVZV1CNZEk%2F42%2FIHyg7JIcNSAuoyO21KyO4AwB6puIoKy7F56n2fUdpJu0kp48FScTQXMEdM4GqU1mGNi%2F1iiwI8pC95Q%2F24a77feq94JTRY3UNNOXDHjfSCF2bvJccVJhjDI57NrMjkgBba7r3xigq2Fg1OdaQwkkTmM9hjC2bRp8fIJnplnEL1VaYNkmyO6JecxCSYeOTFBw1CdEkvJqnZMxJkJsAoAKOgRSscId9pZq3tyWCzA4c4piMqhAQL3%2BGePVD3ViQpZre8K8mdzakV9JB0ZVNrDL2HUex85KUA%3D&nv_mid=81076354187&cat_id=50000830\n",
      "--------------------------------------------------\n",
      "휠라 리니어 반팔 맨투맨 FS2POA2001X\n",
      "http://cr2.shopping.naver.com/adcrNoti.nhn?x=dxfiZuwW4jzlrgaFG%2BGVXv%2F%2F%2Fw%3D%3DsaQm5qM4EZGzojg1sGg3SU0TpT7fbMWX1woOFwBHzoFAhmIJB9WVNL4OsCs%2FnhrENYwHfbH8R8sKfnP%2Frgtg2lDWrcOh5OzO1B1crM4onNXs05WjwTxbkm0eyeeWPqdGhSVRwXLDoJiS13nNxY89SIY5hux8hWOpHU6ha%2F2jrmNiTY%2B08dkOwWtAsIXSvfMrfSupiEKPmeapAiaFgu5vkufrGr%2BXf%2BV2%2FEW2jloLz%2FWD%2FEX2JnxnuHg0Y9gw4Pky5G%2B1Yswqns5XOL7BW1357YuCwWIQErpecaB5%2BpIXqoHAZGil%2B6U717OlhtXtqAG1VLgNQ3W8Hhe2as2GWI3RcyFppZkQK1vnxH2ZTQa7aZaXzCiKqxBS%2F8kJRkVLAAQVe3cwGKX0m8XQpLdLhVIy8ppUGtESEHWwlaKlmex38HjPf%2BHSHA%2B7Pg812PU7YaTrqm3YE7vUnaHzg8NSLGujmdPJ89ZWU1ecFHxy6hZytdb0peepxINXtSKdsOqQLkQXU1lWR5NdtrYZdLTlES8YGSd6j4UgFy8pmADaUn8SqcPtSSGaU3zBXNmWfUDvsGGhdOuIjpmX%2F4cDZ%2BYO%2BuVO%2FSZXIw1SaKFN1R2OUo5qK%2FUDiZ4PRExsOTAoyM2aPDdn5ZMTAX%2FA58lwDQqErDuCjhkHogEn8Q22hrIZasmuTnLf6gJOCKUniKRXxgU2aBZ2wI2v%2B2WmnrqkWnIOzDxWuO7xBtXc5De9m%2Fdj%2BnM7ZhUc%3D&nv_mid=19634072493&cat_id=50000830\n",
      "--------------------------------------------------\n",
      "나이키 프렌치테리 크루 맨투맨\n"
     ]
    },
    {
     "name": "stdout",
     "output_type": "stream",
     "text": [
      "http://cr2.shopping.naver.com/adcrNoti.nhn?x=VDrbcV2KOEVM2KLctXUP1%2F%2F%2F%2Fw%3D%3DsIwdEdInRTidir49%2FT2MbnqAKFYfkrjgv3tK6H%2Be9hw0zGGvRbI53cXMFK5xhei7zJbo0NSP6%2BUGG2ppjD93lyOiyTJeJUOv2TiA8o%2FUxxt4AJ48p1gvSf%2B49sywr%2BMbY9vhUHbiP3PsE1qIx7Xtt%2BRl6Skqa8Vk%2FNRlFdVPNkScR7W5gyJQ1nvFY%2BMtklQrrn8qD10eVt1lGhKzM%2BKR9ohJwRse4yLJ6KioKK%2FsNHIb%2FEX2JnxnuHg0Y9gw4Pky5G%2B1Yswqns5XOL7BW1357YuCwWIQErpecaB5%2BpIXqoHAZGil%2B6U717OlhtXtqAG1V7QJQmHpMXV27IknvclvA%2Fa9BpmK435PD9K1hykv2Il3D4WQ7Vf27UCXyouOtVYUo6403CrgW61qH1HQAqapI3Dqq7KMKtB9UY9ZX%2Fey1drcCw18zUc3oDgR6eLWX53rRyEBWTPe4nV5Wo44B5l%2FIZMa6Berw%2F0Lr17CX%2Fsic9XFNgyhNItaJhZw4GP0vaVHHYYuAd1oxkgVlpGf7%2FiKQpiUsAJ1s%2B23%2B9cBEEJ2rsJFSGZKhwds5yGiTGDy2XHKu4j349JoVGKvHl9ezQbk4uq0mbF1%2FpQrxHhQ24gIwl1j6gJOCKUniKRXxgU2aBZ2wdFHMOli47%2F0VU9v4dIW1BIRh6gel6%2B6JppsM4Ogv1qo%3D&nv_mid=18809629410&cat_id=50000830\n",
      "--------------------------------------------------\n",
      "특양면 베이직 맨투맨 기모 무지\n",
      "http://cr2.shopping.naver.com/adcr.nhn?x=pKgYGcapr1h0krx8GQT8Mv%2F%2F%2Fw%3D%3Dst%2BciPWalHaJ2rbBThMChhw3CuXHib43lbWOJGxfZIjYzGGvRbI53cXMFK5xhei7ztI8SS39BUWImbPsQUStOzG1uLNrIHQM1EWwG9QtFm80zg8oeCQ7GTCSYatJwJr%2FnVvZ%2BiRr8FxgewpHpozSgHppBDT9g0vi2eUYP4Mg%2B3npT8hWzr%2Fx6yYt8Yj%2FzlqkQyMJxMjUsphbGUTxPG4Ru0V1zqG9wck3%2FrB%2BbDxc%2BcO6NyQ29mAZUk8gqPsND4WCqHd8gEw9lzl%2BRKFP4AUtntEbpbGYvomUslDXkgI4AksE%2BheiB11HOOoGFk7QVeDS6Qwd1Ofjr8N2BpfekpJ7bWg74yl%2BAvmhp8RTubTY3VlejMnBe5hlIT7NZTKsnHLdWv4nzpciovRJ1bLeWufDxcQUuiaYFN%2F0KdHQuiGseh18MXZE6V6pB9h4%2BtqUEwUNR6EUJTqE0LVc95r1b9p0IrDFHrVtib35Yod0d4rQ3JnkBgu4hRDM072Llda3yg5l36O%2FqyNhU2rbvkUrOfykDYdlFlF1d5Pq8ZIA%2FPbQwwKKkr%2BDpwor7NHB1t1wF7kql2dt2J5JcJ5ozYByU7Dl3ajeQ1vs7csgm7HhhUTpvkgz62uUDpL0toxFROsqKy6yFd0MHS8OVhYFqtCwtpos1JrgMh%2FVc2vfDNFqF7QRQE6o%2Bs%2F%2F19tQiE8hv06zyZBGa&nv_mid=8357682806&cat_id=50000830\n",
      "--------------------------------------------------\n",
      "챔피온 맨투맨 후드티 후드집업\n",
      "http://cr2.shopping.naver.com/adcr.nhn?x=Kb2V7LdOaKAlit5vfCHmIf%2F%2F%2Fw%3D%3DsfeFZ3%2FHuI%2FdUY4AqHz4O3H6m2%2BueYwRB1l5bnn4YXP6fs04n%2BI74FH%2B1k4ttfK8NjbbQ2FQq%2Bx1yvZCEMvdtItnFmcC5r7pByd7m3UNhnId3y2fBOpuleoiHezvpTXp7iiC6F879yD5tJkGmLGlX4kSIubQx87Eao%2BbIHclg669CCTxEYumlfmS0CSfIhc3raRm9oiBWSqyrUyhpZWhOitnv2BWtSkVHvyPkuqNa5d5ul%2FynqTfbHBzPrLXMYbFf2pQeyAcpGrN3qdfeNy9TA0DInQTllngnA1yNWKSkSS%2BYcYJGcMIP%2Bz2Gi9L63WAmk170VRVtwJGMSepLXVhWu1WPAZIt1gtms8Ee%2B4C3SVWye0XBrJ6k2drDMV4XLlxHNDZOG0coXVxgHmLDXo0c%2BBdr0aI0cMJontGeciBoqDJrGjK9KXVkpqINEcVXJpyLnMluA%2BPBiyOiSI2vbrJF%2FEzbdhG%2FLnmyTPfgHZ%2FvQ6aGaDeNTZaUpvr8uneesCHhAyxEjUhVYVVNoIzmUPXjoPTDnnxhPGORZV9H3NDqTnkZTEneWcbGZrEFn0GiQJk%2Fsweg%2FNfp%2FbgANxIrgZbkEk8Smr533SVnVneOIMaXlVhzV1Mace4iBpkGxFotVtAG297gbffA51r5bRcW8M1iLii2KkDak5MhmbUFZNgurEl50tYNRBoIrmwzRTXJFxvz&nv_mid=13082204309&cat_id=50000830\n",
      "--------------------------------------------------\n",
      "슈프림 봄신상 5부 3부 반팔 맨투맨 후드 132종 슈프림 특양면 오버핏 무료배송\n",
      "http://cr2.shopping.naver.com/adcrNoti.nhn?x=%2BsgcoalkjZvMTtaE69wLpv%2F%2F%2Fw%3D%3DsM%2FP4Xv1rWNYoQ6YKHQVz%2BvVrXUFcprLeV%2BmEQ3hZLUsMUviL0rLEjLfa%2FWqlhZR7r%2FjBiZz6Fe9NsX%2B0%2B39b%2BB3sO0zGgS%2FBHiUIvfpZj6pycDrqnhkbauIfQGtsiod6IbsrZP3p6HkBQeriWcNVdjTGb5Kjpa9NXEggcrcVp1uFmAvgDnsyG6sFVuwElhVD2gc99BX7EHCVCpTX2%2Ft%2BoJH4l2hiyDGSSCn5WgS9Hb5SHC4A0pqRcOwcD9f31%2FYNfS7FuEYIqVTygP9iDeHACeJponNr0PJdzj7z3SwUwefcFM1zWi7zPTsvqsSLNs75U%2FZQi6aMdnp%2FLMI5Slvq9gx1BbT8AX5425lYjtLNl7uaoi%2B60NGtEUybXDb%2BmqkOIpl0CR%2BwHeTNhn1%2F4XIgd2fOE2TXxbMBNNYnE3iwoZcF2mu%2FTmTWhvk6eIcadoXbJRJQSJ5pAKCv%2FpdtH9hDAWbDp%2FliosjDDLBBzUwm8wqfmS7ZCfMIcOX8CPS1gsCQs8oDmDeGoS3XwkFHv3fgm6lx1vaMApyeqdAu4Qew2VT2v5SSB8J1pLJdrZI6K%2F8ULeRcwAbr0zvZILPUh%2BAMHYPWGWhVQ2acY1A3MKzPMhU2n%2FmbaBJAEZ8V4R7PH42GUafqCDRVet1WopK5veVOg0%2FoM4586r%2FvB8G6NBs5d2%2BRrGogFF%2FpGA394MD8rgh5BX7NXvvkASp0YK3NTfg%2BNyBaK6Ynktm168xy28gCNjL44E%2BAjWbKpojw6sdApURy&nv_mid=18769163894&cat_id=50000830\n",
      "--------------------------------------------------\n",
      "소프트 무지 오버핏 맨투맨 봄 티셔츠\n",
      "http://cr2.shopping.naver.com/adcr.nhn?x=LF4%2BXemLgJpg8usAquEIH%2F%2F%2F%2Fw%3D%3Dsk8LXq4KUZnTjnhKiSYjpgCoRLsJlROnO1ITJqxyVG7V%2BxVslBC%2BrGIaodi4MwxVP3Z686TCSn78Ufbe52AxF8iL%2BhFn4Vqg515dIyqiC8cix0wsFa7bFx1P%2FXiXGAW3y6mwbrBBriHEvg35DgAYidD9eHzfZNH4fgwvVE8eIu6okOskT89AaJOjLiyzv8f2QlTHHtCh5Fdi6vUtmUIMTdL9sMS%2BPp571KyRwY7BQi4z1DLe%2FT%2BVDT5ukjNzOTqy%2FqXovKPOc7%2BwfQ9%2B6qjdfvnziS%2Fd3ml6%2Bd7n6%2F50Se3MF%2BGNtffYHA7Wzu1X3aE%2BlCgB7%2FX2JPd4Wqlq1siFe5%2BHJbfXHSlXP1GlmIzsBohDnuGcU7bgeUDvTDYKBgNin5Thmqmyb3VTJKGlmN%2B7UG%2FO42jFYMegrLJvyS7bGxmilMqufUakjrnKiwTMg8NE96PArBBGg1WwZNjBgQ7T5lglEdjAUPu948xuh42m%2FZgkm2WpdDXHuLQ3kZhkB8qKn%2F2HWd9N16vJtM3zGIkS%2B%2BDjZX75z2HAT%2BcVVpVg0uxyMOQNBvwOKgcqkP1o283B%2FX2vdPAQiLQS5cRDLq8imzoUKb%2BZPa7eVZCpoYx%2FXsKLs1CrW8%2B0BWnhPa%2BB8m6fXk1mJtbTQcW0o1jGHtMLFap6Js5KOMYao7H0WshsvEnWRmwW6JRkMw7%2BpxHzRgU6jShDFzvRo4WzivR24rahlkqz7m6%2FM6pLV6jVAQV24W%2FI%3D&nv_mid=81657383474&cat_id=50000830\n",
      "--------------------------------------------------\n",
      "13컬러 비비드 데일리 무지 오버핏 맨투맨\n",
      "http://cr2.shopping.naver.com/adcr.nhn?x=6To8BNa10Tv6xo1CBfXxjf%2F%2F%2Fw%3D%3Dsht8xZyEFQonfeG5lrimmDkeOzCqrX7lktQ6Zdqw%2BkXIzGGvRbI53cXMFK5xhei7zh%2FKnlgfpd%2FnGpECtOjvd7XYfKWaZ6ObauzxJcv2iBMXntT6EbWqUzgNbzLTM1EK7k9fzX2HpwyEboMcvT4JcnLfBsIja9rudDXwaBOLjzwZo6swCNO7%2FbdvHo%2FLyS1V5tX4QD7Q6EOE9tR%2B4hQTJ3GTuV%2FrZ44Z%2BNz6MXQ%2F%2BTIkuOuaQ28JC%2BrpRybQLOpRbhiUUB1%2FU4Wx62w9MIgGcC5a9jCYmxrhu9SL6%2FfP0RWEt3A0KLEZatr7lbZjsmRURMRVI3nztsvXa5%2BuCys53K72vvcceAD2YVBKYFeBkTmVP9SuEzkrI7teQ%2FB01WDTHmSzt9fhbIRlQzW1JfmYpK0tfro5hrQeO%2BwZsruYtIsyv4EpJuxejvdA%2FMaXHQwEV4GWf8R2f%2F1PXfkWo0m2Zj5p4hS9mtZhItvw5ez%2Feo%2BMtXMKGSsAWvVVYPSzCOnWuAMM0N9zpMR9JLpuny%2BXrPzEM%2B9zHMb0oHpBjCRsy0FPozLcu%2BoeXsJfjMBKZCjh8zEeJM%2BkRWWO9VIbQE7fKLMqqFsP8G2QREKYZBGCMkOxkgy9cA5mYp5fnfvODcnik4OWYFc0RZ5NHjyIxm0t3Y3mG9fAhwPz7TROnEbHBwK9%2BDmYmlDCO3%2BzcpUaZR%2Bkcn46veXUIzcmHYNqp5bxZxw%3D%3D&nv_mid=81778005292&cat_id=50000830\n",
      "--------------------------------------------------\n"
     ]
    }
   ],
   "source": [
    "for i in range(15):\n",
    "    many_shop = goods_list[i].find('span', {'class':'price'}).find('a')\n",
    "    if i%5 == 0:\n",
    "        print(f'{i}...')\n",
    "    if many_shop == None:\n",
    "        shop_title_list.append(goods_list[i].find('a').attrs['title'])\n",
    "        shop_href_list.append(goods_list[i].find('a').attrs['href'])\n",
    "    else:\n",
    "        if '판매처' in many_shop.text:\n",
    "            shop_title_list.append(goods_list[i].find('a').attrs['title'])\n",
    "            shop_detail = many_shop.attrs['href']\n",
    "            #print(shop_detail)\n",
    "            browser.get(shop_detail)\n",
    "            browser.implicitly_wait(15)\n",
    "            html = browser.page_source\n",
    "            soup = BeautifulSoup(html, 'html.parser')\n",
    "            shop_href_list.append(soup.select_one('div.price_area').find('a').attrs['href'])\n",
    "        else:\n",
    "            shop_title_list.append(goods_list[i].find('a').attrs['title'])\n",
    "            shop_href_list.append(goods_list[i].find('a').attrs['href'])"
   ]
  },
  {
   "cell_type": "markdown",
   "metadata": {},
   "source": [
    "# 실질적으로 수집하는 함수 정의 부분"
   ]
  },
  {
   "cell_type": "markdown",
   "metadata": {},
   "source": [
    "## firefox browser 생성"
   ]
  },
  {
   "cell_type": "code",
   "execution_count": 2,
   "metadata": {},
   "outputs": [],
   "source": [
    "def browser_on():\n",
    "    driver_path = './geckodriver.exe'\n",
    "    sys.path.append(driver_path)\n",
    "    options = webdriver.FirefoxOptions()\n",
    "\n",
    "    #options.add_argument('--headless')\n",
    "    #options.add_argument('--no-sandbox')\n",
    "    # 사람처럼 보이게\n",
    "    options.add_argument(\"disable-gpu\")   # 가속 사용 x\n",
    "    #options.add_argument(\"lang=ko_KR\")    # 가짜 플러그인 탑재\n",
    "    options.add_argument('user-agent=Mozilla/5.0 (Windows NT 6.1; WOW64; Trident/7.0; rv:11.0) like Gecko') # user-agent\n",
    "\n",
    "    return webdriver.Firefox(executable_path=driver_path, options=options)"
   ]
  },
  {
   "cell_type": "markdown",
   "metadata": {},
   "source": [
    "## 네이버 쇼핑몰의 href 수집"
   ]
  },
  {
   "cell_type": "code",
   "execution_count": 3,
   "metadata": {},
   "outputs": [],
   "source": [
    "def href_crawler(browser, male, start_page, end_page):    \n",
    "    keyword = '맨투맨'\n",
    "    if male:\n",
    "        cat_id = 50000830\n",
    "    else:\n",
    "        cat_id = 50000803\n",
    "    shop_title_list = []\n",
    "    shop_href_list = []\n",
    "    \n",
    "    for p in range(start_page,end_page+1):\n",
    "        print(f\"{p}page crawling...\")\n",
    "        \n",
    "        main_url = f'https://search.shopping.naver.com/search/all.nhn?origQuery={keyword}&pagingIndex={p}&pagingSize=40&viewType=list&sort=rel&cat_id={cat_id}&frm=NVSHCAT&query=%EB%A7%A8%ED%88%AC%EB%A7%A8'\n",
    "        try:\n",
    "            browser.get(main_url)\n",
    "            # 페이지 가지고올 수 있게 최대 15초까지 기다림 \n",
    "            browser.implicitly_wait(15)\n",
    "            time.sleep(3)\n",
    "\n",
    "            html = browser.page_source\n",
    "            soup = BeautifulSoup(html, 'html.parser')\n",
    "            goods_list = soup.select_one('ul.goods_list').find_all('div', {'class':'info'})\n",
    "\n",
    "            for i in range(len(goods_list)):\n",
    "                many_shop = goods_list[i].find('span', {'class':'price'}).find('a')\n",
    "                if i%5 == 0:\n",
    "                    print(f'{i}...')\n",
    "                if many_shop == None:\n",
    "                    shop_title_list.append(goods_list[i].find('a').attrs['title'])\n",
    "                    shop_href_list.append(goods_list[i].find('a').attrs['href'])\n",
    "                else:\n",
    "                    if '판매처' in many_shop.text:\n",
    "                        shop_title_list.append(goods_list[i].find('a').attrs['title'])\n",
    "                        shop_detail = many_shop.attrs['href']\n",
    "                        #print(shop_detail)\n",
    "                        browser.get(shop_detail)\n",
    "                        browser.implicitly_wait(15)\n",
    "                        html = browser.page_source\n",
    "                        soup = BeautifulSoup(html, 'html.parser')\n",
    "                        shop_href_list.append(soup.select_one('div.price_area').find('a').attrs['href'])\n",
    "                    else:\n",
    "                        shop_title_list.append(goods_list[i].find('a').attrs['title'])\n",
    "                        shop_href_list.append(goods_list[i].find('a').attrs['href'])\n",
    "        except:\n",
    "            continue\n",
    "    return shop_title_list, shop_href_list"
   ]
  },
  {
   "cell_type": "code",
   "execution_count": 4,
   "metadata": {},
   "outputs": [
    {
     "name": "stdout",
     "output_type": "stream",
     "text": [
      "Wall time: 5.31 s\n"
     ]
    }
   ],
   "source": [
    "%%time\n",
    "browser = browser_on()"
   ]
  },
  {
   "cell_type": "code",
   "execution_count": 5,
   "metadata": {},
   "outputs": [
    {
     "name": "stdout",
     "output_type": "stream",
     "text": [
      "1page crawling...\n",
      "0...\n",
      "5...\n",
      "10...\n",
      "15...\n",
      "20...\n",
      "25...\n",
      "30...\n",
      "35...\n",
      "40...\n",
      "Wall time: 39.7 s\n"
     ]
    }
   ],
   "source": [
    "%%time\n",
    "_, male_href_list = href_crawler(browser,True, 1,1)"
   ]
  },
  {
   "cell_type": "code",
   "execution_count": null,
   "metadata": {},
   "outputs": [],
   "source": [
    "import pandas as pd\n",
    "import numpy as np"
   ]
  },
  {
   "cell_type": "code",
   "execution_count": 32,
   "metadata": {},
   "outputs": [],
   "source": [
    "def save_href_list(href, title):\n",
    "    href_df = pd.DataFrame(np.array(href), columns=['href'])\n",
    "    href_df['title'] = np.array(title)\n",
    "    href_df.to_csv('./href_list.csv', mode='w')    "
   ]
  },
  {
   "cell_type": "code",
   "execution_count": 34,
   "metadata": {},
   "outputs": [],
   "source": [
    "save_href_list(male_href_list, _)"
   ]
  },
  {
   "cell_type": "code",
   "execution_count": 35,
   "metadata": {},
   "outputs": [],
   "source": [
    "dataset = pd.read_csv('./href_list.csv')"
   ]
  },
  {
   "cell_type": "code",
   "execution_count": 36,
   "metadata": {},
   "outputs": [],
   "source": [
    "dataset = dataset.drop(['Unnamed: 0'], axis = 1)"
   ]
  },
  {
   "cell_type": "code",
   "execution_count": 45,
   "metadata": {},
   "outputs": [],
   "source": [
    "male_href_list = dataset['href'].values"
   ]
  },
  {
   "cell_type": "code",
   "execution_count": 46,
   "metadata": {},
   "outputs": [
    {
     "name": "stdout",
     "output_type": "stream",
     "text": [
      "44\n"
     ]
    }
   ],
   "source": [
    "print(len(male_href_list))"
   ]
  },
  {
   "cell_type": "code",
   "execution_count": 47,
   "metadata": {},
   "outputs": [],
   "source": [
    "def image_scrapping(href_list, save_path):\n",
    "    over_weight = 0\n",
    "    browser = browser_on()\n",
    "    for idx, href in enumerate(href_list):\n",
    "        print(f'{idx+1}/{len(href_list)} {save_path} screent shot...')\n",
    "        try:\n",
    "            if idx%500 == 0:\n",
    "                browser.quit()\n",
    "                browser = browser_on()\n",
    "            browser.get(href)\n",
    "            browser.implicitly_wait(15)\n",
    "            time.sleep(7)\n",
    "            # 팝업창 닫기\n",
    "#             if len(browser.window_handles) > 1:\n",
    "#                 for i in range(1,len(browser.window_handles)):\n",
    "#                     browser.switch_to.window(browser.window_handles[i])\n",
    "#                     time.sleep(0.5)\n",
    "#                     browser.close()\n",
    "#                 browser.switch_to.window(browser.window_handles[0])\n",
    "#             time.sleep(2)\n",
    "\n",
    "            # from here http://stackoverflow.com/questions/1145850/how-to-get-height-of-entire-document-with-javascript\n",
    "            js = 'return Math.max( document.body.scrollHeight, document.body.offsetHeight,  document.documentElement.clientHeight,  document.documentElement.scrollHeight,  document.documentElement.offsetHeight);'\n",
    "            scrollheight = browser.execute_script(js)\n",
    "            if scrollheight > 20000:\n",
    "                print(f'scrollheight over: {scrollheight} !!')\n",
    "                over_weight +=1\n",
    "                print(f'over_weight_count : {over_weight}')\n",
    "                continue\n",
    "            scale = 0.8\n",
    "            browser.execute_script(f'document.body.style.MozTransform = \"scale({scale})\";')\n",
    "            time.sleep(2)\n",
    "\n",
    "            slices = []\n",
    "            offset = 0\n",
    "            while offset < scrollheight:\n",
    "                browser.execute_script(f\"window.scrollTo(0, {offset});\")\n",
    "                time.sleep(1)\n",
    "                img = Image.open(BytesIO(browser.get_screenshot_as_png()))\n",
    "                offset += img.size[1]\n",
    "                slices.append(img)\n",
    "                # print (f'{offset} / {scrollheight}')\n",
    "                time.sleep(1)\n",
    "\n",
    "\n",
    "            screenshot = Image.new('RGB', (slices[0].size[0], scrollheight))\n",
    "            offset = 0\n",
    "            for img in slices:\n",
    "                screenshot.paste(img, (0, offset))\n",
    "                offset += img.size[1]\n",
    "            screenshot.save(f'./img/{save_path}/screen_shot_{idx}.png')\n",
    "            time.sleep(3)\n",
    "        except:\n",
    "            print('error!')\n",
    "            continue"
   ]
  },
  {
   "cell_type": "code",
   "execution_count": 48,
   "metadata": {},
   "outputs": [
    {
     "name": "stdout",
     "output_type": "stream",
     "text": [
      "1/44 male_size screent shot...\n",
      "scrollheight over: 26091 !!\n",
      "over_weight_count : 1\n",
      "2/44 male_size screent shot...\n",
      "scrollheight over: 24759 !!\n",
      "over_weight_count : 2\n",
      "3/44 male_size screent shot...\n",
      "scrollheight over: 26628 !!\n",
      "over_weight_count : 3\n",
      "4/44 male_size screent shot...\n",
      "5/44 male_size screent shot...\n",
      "6/44 male_size screent shot...\n",
      "7/44 male_size screent shot...\n",
      "8/44 male_size screent shot...\n",
      "scrollheight over: 208876 !!\n",
      "over_weight_count : 4\n",
      "9/44 male_size screent shot...\n",
      "scrollheight over: 23595 !!\n",
      "over_weight_count : 5\n",
      "10/44 male_size screent shot...\n",
      "11/44 male_size screent shot...\n",
      "12/44 male_size screent shot...\n",
      "13/44 male_size screent shot...\n",
      "scrollheight over: 51434 !!\n",
      "over_weight_count : 6\n",
      "14/44 male_size screent shot...\n",
      "scrollheight over: 169347 !!\n",
      "over_weight_count : 7\n",
      "15/44 male_size screent shot...\n",
      "scrollheight over: 20201 !!\n",
      "over_weight_count : 8\n",
      "16/44 male_size screent shot...\n",
      "scrollheight over: 51429 !!\n",
      "over_weight_count : 9\n",
      "17/44 male_size screent shot...\n",
      "18/44 male_size screent shot...\n",
      "19/44 male_size screent shot...\n",
      "20/44 male_size screent shot...\n",
      "21/44 male_size screent shot...\n",
      "scrollheight over: 91551 !!\n",
      "over_weight_count : 10\n",
      "22/44 male_size screent shot...\n",
      "23/44 male_size screent shot...\n",
      "scrollheight over: 129774 !!\n",
      "over_weight_count : 11\n",
      "24/44 male_size screent shot...\n",
      "25/44 male_size screent shot...\n",
      "26/44 male_size screent shot...\n",
      "27/44 male_size screent shot...\n",
      "scrollheight over: 82886 !!\n",
      "over_weight_count : 12\n",
      "28/44 male_size screent shot...\n",
      "scrollheight over: 72853 !!\n",
      "over_weight_count : 13\n",
      "29/44 male_size screent shot...\n",
      "scrollheight over: 20806 !!\n",
      "over_weight_count : 14\n",
      "30/44 male_size screent shot...\n",
      "scrollheight over: 52579 !!\n",
      "over_weight_count : 15\n",
      "31/44 male_size screent shot...\n",
      "32/44 male_size screent shot...\n",
      "33/44 male_size screent shot...\n",
      "34/44 male_size screent shot...\n",
      "scrollheight over: 29433 !!\n",
      "over_weight_count : 16\n",
      "35/44 male_size screent shot...\n",
      "36/44 male_size screent shot...\n",
      "37/44 male_size screent shot...\n",
      "38/44 male_size screent shot...\n",
      "scrollheight over: 20681 !!\n",
      "over_weight_count : 17\n",
      "39/44 male_size screent shot...\n",
      "scrollheight over: 61248 !!\n",
      "over_weight_count : 18\n",
      "40/44 male_size screent shot...\n",
      "scrollheight over: 41666 !!\n",
      "over_weight_count : 19\n",
      "41/44 male_size screent shot...\n",
      "42/44 male_size screent shot...\n",
      "scrollheight over: 26262 !!\n",
      "over_weight_count : 20\n",
      "43/44 male_size screent shot...\n",
      "scrollheight over: 27292 !!\n",
      "over_weight_count : 21\n",
      "44/44 male_size screent shot...\n"
     ]
    }
   ],
   "source": [
    "image_scrapping(male_href_list, 'male_size')"
   ]
  }
 ],
 "metadata": {
  "kernelspec": {
   "display_name": "Python [conda env:tmh_env] *",
   "language": "python",
   "name": "conda-env-tmh_env-py"
  },
  "language_info": {
   "codemirror_mode": {
    "name": "ipython",
    "version": 3
   },
   "file_extension": ".py",
   "mimetype": "text/x-python",
   "name": "python",
   "nbconvert_exporter": "python",
   "pygments_lexer": "ipython3",
   "version": "3.6.8"
  },
  "toc": {
   "base_numbering": 1,
   "nav_menu": {},
   "number_sections": true,
   "sideBar": true,
   "skip_h1_title": false,
   "title_cell": "Table of Contents",
   "title_sidebar": "Contents",
   "toc_cell": false,
   "toc_position": {},
   "toc_section_display": true,
   "toc_window_display": false
  }
 },
 "nbformat": 4,
 "nbformat_minor": 2
}
