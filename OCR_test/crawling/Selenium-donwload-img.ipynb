{
 "cells": [
  {
   "cell_type": "code",
   "execution_count": 1,
   "metadata": {},
   "outputs": [
    {
     "name": "stdout",
     "output_type": "stream",
     "text": [
      "scrollheight : 208876\n",
      "Wall time: 8.95 s\n"
     ]
    }
   ],
   "source": [
    "%%time\n",
    "from selenium import webdriver\n",
    "from PIL import Image\n",
    "from io import BytesIO\n",
    "from selenium.webdriver.common.by import By\n",
    "from selenium.webdriver.support.ui import WebDriverWait\n",
    "from selenium.webdriver.support import expected_conditions as EC\n",
    "from bs4 import BeautifulSoup\n",
    "import time\n",
    "import requests\n",
    "\n",
    "shop_url = 'https://www.wconcept.co.kr/Product/300504814?gclid=Cj0KCQjwrdjnBRDXARIsAEcE5YkPD5JkB8VQ6qzvET-3mwpJsMNb41q7doMAsx4usAyIj6VkADQomMgaApWLEALw_wcB'\n",
    "shop_url2 = 'http://www.halfclub.com/Detail?PrstCd=RT9STS05&ColorCd=ZZ9&NaPm=ct%3Djwiyxnns%7Cci%3Db1398f8848980fa78f7c352048e8c70e72a08ff7%7Ctr%3Dligh%7Csn%3D270%7Chk%3Dfdee3d0bae83774a4617e196f46087ad4a8c458a'\n",
    "shop_url3 = 'http://www.tmon.co.kr/deal/1959358378?NaPm=ct%3Djwk3obtc%7Cci%3D265e98e52a8d47dd798cb5e73c5c831654b8f5f6%7Ctr%3Dslsl%7Csn%3D221844%7Chk%3D4c2172339f11fa4d15e6b65e6108253d62b67cdf&utm_source=naver&utm_medium=affiliate&utm_term=&utm_content=&utm_campaign=%EB%84%A4%EC%9D%B4%EB%B2%84%EC%A7%80%EC%8B%9D%EC%87%BC%ED%95%91_%ED%86%B5%ED%95%A9%EA%B2%80%EC%83%89%ED%95%AB%EB%94%9C'\n",
    "verbose = 1\n",
    "driver_path = './geckodriver.exe'\n",
    "browser = webdriver.Firefox(executable_path=driver_path)\n",
    "browser.get(shop_url3)\n",
    "\n",
    "# from here http://stackoverflow.com/questions/1145850/how-to-get-height-of-entire-document-with-javascript\n",
    "js = 'return Math.max( document.body.scrollHeight, document.body.offsetHeight,  document.documentElement.clientHeight,  document.documentElement.scrollHeight,  document.documentElement.offsetHeight);'\n",
    "\n",
    "scrollheight = browser.execute_script(js)\n",
    "print(f'scrollheight : {scrollheight}')\n",
    "scale = 0.8\n",
    "browser.execute_script(f'document.body.style.MozTransform = \"scale({scale})\";')"
   ]
  },
  {
   "cell_type": "code",
   "execution_count": 3,
   "metadata": {},
   "outputs": [],
   "source": [
    "html = browser.page_source\n",
    "soup = BeautifulSoup(html, 'html.parser')\n",
    "# 모든 img 태그 가지고옴 \n",
    "imgs = soup.find_all('img')\n",
    "img_src = []\n",
    "for img_ in imgs:\n",
    "    img_src.append(img_.get('src'))"
   ]
  },
  {
   "cell_type": "code",
   "execution_count": 25,
   "metadata": {},
   "outputs": [
    {
     "data": {
      "text/plain": [
       "483"
      ]
     },
     "execution_count": 25,
     "metadata": {},
     "output_type": "execute_result"
    }
   ],
   "source": [
    "len(img_src)"
   ]
  },
  {
   "cell_type": "code",
   "execution_count": 24,
   "metadata": {},
   "outputs": [],
   "source": [
    "import requests\n",
    "import shutil\n",
    "# user-agent를 설정해줘야 로봇이 아닌줄 알고 막지 않음\n",
    "# user-agent 설정 안해주면 403 error 발생\n",
    "r = requests.get(img_src[0], stream=True, headers={'User-agent': 'Mozilla/5.0'})\n",
    "if r.status_code == 200:\n",
    "    with open(\"./img/img.jpg\", 'wb') as f:\n",
    "        r.raw.decode_content = True\n",
    "        shutil.copyfileobj(r.raw, f)\n",
    "else:\n",
    "    print(r.status_code)"
   ]
  },
  {
   "cell_type": "code",
   "execution_count": 26,
   "metadata": {},
   "outputs": [],
   "source": [
    "def img_crawler(img_list):\n",
    "    for idx,img_ in enumerate(img_list):\n",
    "        r = requests.get(img_, stream=True, headers={'User-agent': 'Mozilla/5.0'})\n",
    "        if r.status_code == 200:\n",
    "            if idx % 10 == 0:\n",
    "                print(f'{idx}....')\n",
    "            with open(f'./img/{idx}.jpg', 'wb') as f:\n",
    "                r.raw.decode_content = True\n",
    "                shutil.copyfileobj(r.raw, f)\n",
    "        else:\n",
    "            print(r.status_code)"
   ]
  },
  {
   "cell_type": "code",
   "execution_count": 29,
   "metadata": {},
   "outputs": [
    {
     "name": "stdout",
     "output_type": "stream",
     "text": [
      "0....\n",
      "10....\n",
      "20....\n",
      "30....\n",
      "40....\n",
      "50....\n",
      "60....\n",
      "70....\n",
      "80....\n",
      "90....\n",
      "Wall time: 3.15 s\n"
     ]
    }
   ],
   "source": [
    "%%time\n",
    "img_crawler(img_src[:100])"
   ]
  },
  {
   "cell_type": "markdown",
   "metadata": {},
   "source": [
    "# 이미지를 다 load하지 못하는 것 같음"
   ]
  },
  {
   "cell_type": "code",
   "execution_count": 34,
   "metadata": {},
   "outputs": [
    {
     "data": {
      "text/plain": [
       "'http://img2.tmon.kr/static2/img/blank.png'"
      ]
     },
     "execution_count": 34,
     "metadata": {},
     "output_type": "execute_result"
    }
   ],
   "source": [
    "img_src[48]"
   ]
  }
 ],
 "metadata": {
  "kernelspec": {
   "display_name": "Python [conda env:tmh_env] *",
   "language": "python",
   "name": "conda-env-tmh_env-py"
  },
  "language_info": {
   "codemirror_mode": {
    "name": "ipython",
    "version": 3
   },
   "file_extension": ".py",
   "mimetype": "text/x-python",
   "name": "python",
   "nbconvert_exporter": "python",
   "pygments_lexer": "ipython3",
   "version": "3.6.8"
  },
  "toc": {
   "base_numbering": 1,
   "nav_menu": {},
   "number_sections": true,
   "sideBar": true,
   "skip_h1_title": false,
   "title_cell": "Table of Contents",
   "title_sidebar": "Contents",
   "toc_cell": false,
   "toc_position": {},
   "toc_section_display": true,
   "toc_window_display": false
  }
 },
 "nbformat": 4,
 "nbformat_minor": 2
}
