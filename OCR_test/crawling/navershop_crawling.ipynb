{
 "cells": [
  {
   "cell_type": "code",
   "execution_count": 132,
   "metadata": {},
   "outputs": [],
   "source": [
    "from selenium import webdriver\n",
    "from PIL import Image\n",
    "from io import BytesIO\n",
    "import requests\n",
    "from bs4 import BeautifulSoup\n",
    "import os\n",
    "import time\n",
    "import sys\n",
    "import requests\n",
    "import shutil\n",
    "\n",
    "# 브라우저 띄우고\n",
    "def browser_on():\n",
    "    driver_path = './geckodriver.exe'\n",
    "    sys.path.append(driver_path)\n",
    "    options = webdriver.FirefoxOptions()\n",
    "\n",
    "    #options.add_argument('--headless')\n",
    "    # 사람처럼 보이게\n",
    "    options.add_argument(\"disable-gpu\")   # 가속 사용 x\n",
    "    options.add_argument('user-agent=Mozilla/5.0 (Windows NT 6.1; WOW64; Trident/7.0; rv:11.0) like Gecko') # user-agent\n",
    "\n",
    "    return webdriver.Firefox(executable_path=driver_path, options=options)"
   ]
  },
  {
   "cell_type": "code",
   "execution_count": 127,
   "metadata": {},
   "outputs": [],
   "source": [
    "# href 수집하는 부분\n",
    "def href_crawler(browser, category, page):\n",
    "    shop_title_list = []\n",
    "    shop_href_list = []\n",
    "    img_src_list = []\n",
    "    main_url = f'https://search.shopping.naver.com/search/all.nhn?query={category}&pagingIndex={page}&pagingSize=20&cat_id=&frm=NVSHATC'\n",
    "\n",
    "    browser.get(main_url)\n",
    "    # 페이지 가지고올 수 있게 최대 15초까지 기다림\n",
    "    browser.implicitly_wait(15)\n",
    "\n",
    "    html = browser.page_source\n",
    "    soup = BeautifulSoup(html, 'html.parser')\n",
    "    \n",
    "    goods_list = soup.select_one('ul.goods_list').find_all('div', {'class': 'info'})\n",
    "    img_list = soup.select_one('ul.goods_list').find_all('div', {'class': 'img_area'})\n",
    "    \n",
    "        \n",
    "    for i in range(len(goods_list)):\n",
    "        # 쇼핑몰 리스트\n",
    "        many_shop = goods_list[i].find('span', {'class': 'price'}).find('a')\n",
    "        # img source 가져오기\n",
    "        img_src_list.append(img_list[i].find('img',{'class':'_productLazyImg'}).get('data-original'))\n",
    "        print(f'{i}...')\n",
    "        if many_shop == None:\n",
    "            # 그냥 하나의 링크만 있으면 제목과 제일 싼 링크 가져오기\n",
    "            shop_title_list.append(goods_list[i].find('a').text.strip())\n",
    "            shop_href_list.append(goods_list[i].find('a').attrs['href'])\n",
    "        else:\n",
    "            # 판매처있으면 제일 싼 링크\n",
    "            if '판매처' in many_shop.text:\n",
    "                shop_title_list.append(goods_list[i].find('a').text.strip())\n",
    "                shop_detail = many_shop.attrs['href']\n",
    "                # print(shop_detail)\n",
    "                browser.get(shop_detail)\n",
    "                browser.implicitly_wait(15)\n",
    "                html = browser.page_source\n",
    "                soup = BeautifulSoup(html, 'html.parser')\n",
    "                shop_href_list.append(soup.select_one('div.price_area').find('a').attrs['href'])\n",
    "            else:\n",
    "                shop_title_list.append(goods_list[i].find('a').text.strip())\n",
    "                shop_href_list.append(goods_list[i].find('a').attrs['href'])\n",
    "\n",
    "    return shop_title_list, shop_href_list, img_src_list"
   ]
  },
  {
   "cell_type": "code",
   "execution_count": 3,
   "metadata": {},
   "outputs": [],
   "source": [
    "# 이미지 스크린샷 \n",
    "def image_scrapping(href_list, save_path):\n",
    "    over_weight = 0\n",
    "    browser = browser_on()\n",
    "    for idx, href in enumerate(href_list):\n",
    "        print(f'{idx+1}/{len(href_list)} {save_path} screent shot...')\n",
    "        try:\n",
    "            if idx%500 == 0:\n",
    "                browser.quit()\n",
    "                browser = browser_on()\n",
    "            browser.get(href)\n",
    "            browser.implicitly_wait(15)\n",
    "            time.sleep(7)\n",
    "            \n",
    "            # from here http://stackoverflow.com/questions/1145850/how-to-get-height-of-entire-document-with-javascript\n",
    "            js = 'return Math.max( document.body.scrollHeight, document.body.offsetHeight,  document.documentElement.clientHeight,  document.documentElement.scrollHeight,  document.documentElement.offsetHeight);'\n",
    "            scrollheight = browser.execute_script(js)\n",
    "            \n",
    "            if scrollheight > 20000:\n",
    "                print(f'scrollheight over: {scrollheight} !!')\n",
    "                over_weight +=1\n",
    "                print(f'over_weight_count : {over_weight}')\n",
    "                continue\n",
    "            scale = 0.8\n",
    "            browser.execute_script(f'document.body.style.MozTransform = \"scale({scale})\";')\n",
    "            time.sleep(2)\n",
    "\n",
    "            slices = []\n",
    "            offset = 0\n",
    "            while offset < scrollheight:\n",
    "                browser.execute_script(f\"window.scrollTo(0, {offset});\")\n",
    "                time.sleep(1)\n",
    "                img = Image.open(BytesIO(browser.get_screenshot_as_png()))\n",
    "                offset += img.size[1]\n",
    "                slices.append(img)\n",
    "                # print (f'{offset} / {scrollheight}')\n",
    "                time.sleep(1)\n",
    "\n",
    "\n",
    "            screenshot = Image.new('RGB', (slices[0].size[0], scrollheight))\n",
    "            offset = 0\n",
    "            for img in slices:\n",
    "                screenshot.paste(img, (0, offset))\n",
    "                offset += img.size[1]\n",
    "            screenshot.save(f'./img/{save_path}/screen_shot_{idx}.png')\n",
    "            time.sleep(3)\n",
    "        except:\n",
    "            print('error!')\n",
    "            continue"
   ]
  },
  {
   "cell_type": "code",
   "execution_count": 5,
   "metadata": {},
   "outputs": [],
   "source": [
    "browser = browser_on()"
   ]
  },
  {
   "cell_type": "code",
   "execution_count": 128,
   "metadata": {},
   "outputs": [
    {
     "name": "stdout",
     "output_type": "stream",
     "text": [
      "0...\n",
      "1...\n",
      "2...\n",
      "3...\n",
      "4...\n",
      "5...\n",
      "6...\n",
      "7...\n",
      "8...\n",
      "9...\n",
      "10...\n",
      "11...\n",
      "12...\n",
      "13...\n",
      "14...\n",
      "15...\n",
      "16...\n",
      "17...\n",
      "18...\n",
      "19...\n",
      "20...\n",
      "21...\n",
      "22...\n",
      "23...\n"
     ]
    }
   ],
   "source": [
    "title_list, href_list, src_list = href_crawler(browser, '맨투맨', 1)"
   ]
  },
  {
   "cell_type": "code",
   "execution_count": 133,
   "metadata": {},
   "outputs": [],
   "source": [
    "# 썸네일 다운로드\n",
    "def img_download(img_list):\n",
    "    for idx,img_ in enumerate(img_list):\n",
    "        r = requests.get(img_, stream=True, headers={'User-agent': 'Mozilla/5.0'})\n",
    "        if r.status_code == 200:\n",
    "            if idx % 10 == 0:\n",
    "                print(f'{idx}....')\n",
    "            with open(f'./img/{idx}.jpg', 'wb') as f:\n",
    "                r.raw.decode_content = True\n",
    "                shutil.copyfileobj(r.raw, f)\n",
    "        else:\n",
    "            print(r.status_code)"
   ]
  },
  {
   "cell_type": "code",
   "execution_count": 134,
   "metadata": {},
   "outputs": [
    {
     "name": "stdout",
     "output_type": "stream",
     "text": [
      "0....\n",
      "10....\n",
      "20....\n"
     ]
    }
   ],
   "source": [
    "img_download(src_list)"
   ]
  },
  {
   "cell_type": "code",
   "execution_count": null,
   "metadata": {},
   "outputs": [],
   "source": []
  }
 ],
 "metadata": {
  "kernelspec": {
   "display_name": "Python [conda env:tmh_env] *",
   "language": "python",
   "name": "conda-env-tmh_env-py"
  },
  "language_info": {
   "codemirror_mode": {
    "name": "ipython",
    "version": 3
   },
   "file_extension": ".py",
   "mimetype": "text/x-python",
   "name": "python",
   "nbconvert_exporter": "python",
   "pygments_lexer": "ipython3",
   "version": "3.6.8"
  },
  "toc": {
   "base_numbering": 1,
   "nav_menu": {},
   "number_sections": true,
   "sideBar": true,
   "skip_h1_title": false,
   "title_cell": "Table of Contents",
   "title_sidebar": "Contents",
   "toc_cell": false,
   "toc_position": {},
   "toc_section_display": true,
   "toc_window_display": false
  }
 },
 "nbformat": 4,
 "nbformat_minor": 2
}
