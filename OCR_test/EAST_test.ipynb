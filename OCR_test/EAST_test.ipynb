{
 "cells": [
  {
   "cell_type": "code",
   "execution_count": 1,
   "metadata": {},
   "outputs": [],
   "source": [
    "# import the necessary packages\n",
    "from imutils.object_detection import non_max_suppression\n",
    "import numpy as np\n",
    "import argparse\n",
    "import time\n",
    "import cv2\n",
    "from PIL import Image\n",
    "import pytesseract\n",
    "import re\n",
    "import matplotlib.pyplot as plt\n",
    "pytesseract.pytesseract.tesseract_cmd = r'C:\\Program Files (x86)\\Tesseract-OCR\\tesseract'"
   ]
  },
  {
   "cell_type": "code",
   "execution_count": null,
   "metadata": {},
   "outputs": [],
   "source": [
    "# tesseract download link\n",
    "# https://github.com/tesseract-ocr/tesseract/wiki/4.0-with-LSTM#400-alpha-for-windows"
   ]
  },
  {
   "cell_type": "code",
   "execution_count": 22,
   "metadata": {},
   "outputs": [
    {
     "data": {
      "text/plain": [
       "<matplotlib.image.AxesImage at 0xa7e8780>"
      ]
     },
     "execution_count": 22,
     "metadata": {},
     "output_type": "execute_result"
    },
    {
     "data": {
      "image/png": "[encoded data removed]",
      "text/plain": [
       "<Figure size 432x288 with 1 Axes>"
      ]
     },
     "metadata": {
      "needs_background": "light"
     },
     "output_type": "display_data"
    }
   ],
   "source": [
    "plt.imshow(cv2.imread('./crawling/img/split_size/screen_shot_73_1.jpg'))"
   ]
  },
  {
   "cell_type": "code",
   "execution_count": 21,
   "metadata": {
    "scrolled": true
   },
   "outputs": [
    {
     "name": "stdout",
     "output_type": "stream",
     "text": [
      "[INFO] loading EAST text detector...\n",
      "[INFO] text detection took 0.303017 seconds\n",
      "[[ 504  600  226  303]\n",
      " [ 348  488  606  672]\n",
      " [ 500  620  611  672]\n",
      " [ 464  600 1041 1108]\n",
      " [ 620  720 1041 1108]\n",
      " [ 716  820 1041 1108]\n",
      " [ 448  816 1356 1433]\n",
      " [ 444  712 1405 1466]]\n",
      "{'1': [[504, 600, 226, 303]], '3': [[348, 488, 606, 672], [500, 620, 611, 672]], '6': [[464, 600, 1041, 1108], [620, 720, 1041, 1108], [716, 820, 1041, 1108]], '7': [[448, 816, 1356, 1433]], 'last': [[444, 712, 1405, 1466]]}\n",
      "[226, 303, 504, 600]\n",
      "['fos', 'xbr', 'xeu', 'lime', '2x7', '', 'daud', 'ale', 'atic', 'dol', '14', 'rleuc']\n",
      "[606, 672, 348, 620]\n",
      "['cbe', 'enbeut', '4', 'a', 'e', 'e', 'e', 'detail', 'point']\n",
      "[1041, 1108, 464, 820]\n",
      "['014257', '216']\n",
      "[1356, 1433, 448, 816]\n",
      "['2', 'ig', 'a22', 'ciee']\n",
      "[1405, 1466, 444, 712]\n",
      "['veacac', '', '140', '', '', 'ad', 'zie', 'a', '27hpfe', 'slelslo', 'mot', 'eet', 'sumitadin', 'esen']\n",
      "Wall time: 3.51 s\n"
     ]
    }
   ],
   "source": [
    "%%time\n",
    "\n",
    "# 사이즈차트를 뽑아올 대상 이미지 지정\n",
    "image_file = os.path.join(file_path, img_list[-1])\n",
    "\n",
    "# EAST detection에 사용될 설정값들을 args 변수에 넣음\n",
    "ap = argparse.ArgumentParser()\n",
    "ap.add_argument(\"-i\", \"--image\", type=str,\n",
    "                help=\"path to input image\")\n",
    "ap.add_argument(\"-east\", \"--east\", type=str, \n",
    "                help=\"path to input EAST text detector\")\n",
    "ap.add_argument(\"-c\", \"--min-confidence\", type=float, default=0.5, \n",
    "                help=\"minimum probability required to inspect a region\")\n",
    "# 참고: 넓이와 높이는 32의 배수여야 된다. 그래서 기본으로 320x320으로 지정한다.\n",
    "ap.add_argument(\"-w\", \"--width\", type=int, default=320, \n",
    "                help=\"nearest multiple of 32 for resized width\")\n",
    "ap.add_argument(\"-e\", \"--height\", type=int, default=320, \n",
    "                help=\"nearest multiple of 32 for resized height\")\n",
    "ap.add_argument(\"-p\", \"--padding\", type=float, default=0.0, \n",
    "                help=\"amount of padding to add to each border of ROI\")\n",
    "\n",
    "\n",
    "args = vars(ap.parse_known_args()[0])\n",
    "args[\"image\"] = image_file\n",
    "args[\"east\"] = 'frozen_east_text_detection.pb'\n",
    "\n",
    "# 대상 이미지를 연다\n",
    "image = cv2.imread(args[\"image\"])\n",
    "orig = image.copy()\n",
    "(H, W) = image.shape[:2]\n",
    "\n",
    "# 이미지 사이즈를 조정하고 조정된 비율을 변수에 담아논다\n",
    "(newW, newH) = (args[\"width\"], args[\"height\"])\n",
    "rW = W / float(newW)\n",
    "rH = H / float(newH)\n",
    "\n",
    "image = cv2.resize(image, (newW, newH))\n",
    "(H, W) = image.shape[:2]\n",
    "\n",
    "# EAST 모델에서 갖고올 2 레이어를 지정한다:\n",
    "# 1. 확률 레이더\n",
    "# 2. 좌표 레이어\n",
    "layerNames = [\"feature_fusion/Conv_7/Sigmoid\",\n",
    "              \"feature_fusion/concat_3\"]\n",
    "\n",
    "# 학습되어 있는 EAST 모델을 갖고온다\n",
    "print(\"[INFO] loading EAST text detector...\")\n",
    "net = cv2.dnn.readNet(args[\"east\"])\n",
    "\n",
    "# BLOB 생성... blob이 뭔지는 정확히는 모르겠다\n",
    "# 위에 링크를 따라가면 blob이 뭔지 설명이 있다\n",
    "blob = cv2.dnn.blobFromImage(image, 1.0, (W, H),\n",
    "\t(123.68, 116.78, 103.94), swapRB=True, crop=False)\n",
    "start = time.time()\n",
    "net.setInput(blob)\n",
    "(scores, geometry) = net.forward(layerNames)\n",
    "end = time.time()\n",
    "\n",
    "# EAST 모델 예측 소요 시간\n",
    "print(\"[INFO] text detection took {:.6f} seconds\".format(end - start))\n",
    "\n",
    "# 확률 레이어로부터 행과 열을 갖고온다\n",
    "(numRows, numCols) = scores.shape[2:4]\n",
    "rects = []\n",
    "confidences = []\n",
    "\n",
    "# 각 행마다 확률과 좌표를 대칭한다\n",
    "for y in range(0, numRows):\n",
    "\tscoresData = scores[0, 0, y]\n",
    "\txData0 = geometry[0, 0, y]\n",
    "\txData1 = geometry[0, 1, y]\n",
    "\txData2 = geometry[0, 2, y]\n",
    "\txData3 = geometry[0, 3, y]\n",
    "\tanglesData = geometry[0, 4, y]\n",
    "\n",
    "\t# 각 열에 있는 확률을 확인한다\n",
    "\tfor x in range(0, numCols):\n",
    "\t\t# 확률이 낮으면 무시~\n",
    "\t\tif scoresData[x] < args[\"min_confidence\"]:\n",
    "\t\t\tcontinue\n",
    "\n",
    "\t\t# 결과 특징맵은 4배 작다고 한다 - 4로 곱해준다\n",
    "\t\t(offsetX, offsetY) = (x * 4.0, y * 4.0)\n",
    "\n",
    "\t\t# 결과값에 박스를 그리기 위한 대각 각도를 갖고온다\n",
    "\t\tangle = anglesData[x]\n",
    "\t\tcos = np.cos(angle)\n",
    "\t\tsin = np.sin(angle)\n",
    "\n",
    "\t\t# 좌표로 부터 높이와 넓이를 갖고온다\n",
    "\t\th = xData0[x] + xData2[x]\n",
    "\t\tw = xData1[x] + xData3[x]\n",
    "\n",
    "\t\t# 대각선에 의한 좌표값들 추출 startX, startY ~ endX, endY\n",
    "\t\tendX = int(offsetX + (cos * xData1[x]) + (sin * xData2[x]))\n",
    "\t\tendY = int(offsetY - (sin * xData1[x]) + (cos * xData2[x]))\n",
    "\t\tstartX = int(endX - w)\n",
    "\t\tstartY = int(endY - h)\n",
    "\n",
    "\t\t# 박스좌표 추가, 확률 추가\n",
    "\t\trects.append((startX, startY, endX, endY))\n",
    "\t\tconfidences.append(scoresData[x])\n",
    "\n",
    "\n",
    "# non_max_suppression으로 겹치는 박스들을 정리한다\n",
    "boxes = non_max_suppression(np.array(rects), probs=confidences)\n",
    "\n",
    "def sort_y(val):\n",
    "    return val[1]\n",
    "\n",
    "def sort_x(val):\n",
    "    return val[0]\n",
    "\n",
    "# EAST 모델에서 값이 나오지 않으면 없다고 말해주자~\n",
    "if len(boxes) == 0:\n",
    "    print(\"EAST GOT NOTHING!!\")\n",
    "\n",
    "# 좋지는 않지만 일단 np.array를 리스트로 바꿔서 y값을 상대로 오름차순 정렬\n",
    "boxes = boxes.tolist()\n",
    "boxes.sort(key=sort_y)\n",
    "\n",
    "reshaped_boxes = []\n",
    "# 변수에 담아놨던 이미지 비율을 사용하여 EAST 결과 박스에 곱해준다\n",
    "for (startX, startY, endX, endY) in boxes:\n",
    "\tstartX = int(startX * rW)\n",
    "\tstartY = int(startY * rH)\n",
    "\tendX = int(endX * rW)\n",
    "\tendY = int(endY * rH)\n",
    "\treshaped_boxes.append([startX, endX, startY, endY])\n",
    "    \n",
    "reshaped_boxes = np.array(reshaped_boxes)\n",
    "print(reshaped_boxes)\n",
    "\n",
    "\n",
    "# 여기서 부턴 곱지못한 코딩을 했으나 일단 돌아가니 양해부탁...\n",
    "\n",
    "# 같은 y값(가로)에 있는 박스들을 묶어줘 region이란 변수에 담는다.\n",
    "regions = {}\n",
    "region = []\n",
    "y_med = reshaped_boxes[0][2] + abs((reshaped_boxes[0][2] - reshaped_boxes[0][3])/2)\n",
    "for hier in range(len(reshaped_boxes)):\n",
    "    if reshaped_boxes[hier][2] < y_med and reshaped_boxes[hier][3] > y_med:\n",
    "        region.append(reshaped_boxes[hier].tolist())\n",
    "    else:\n",
    "        regions[f'{hier}'] = region\n",
    "        region = []\n",
    "        y_med = reshaped_boxes[hier][2] + abs((reshaped_boxes[hier][2] - reshaped_boxes[hier][3])/2)\n",
    "        region.append(reshaped_boxes[hier].tolist())\n",
    "regions['last'] = region\n",
    "print(regions)\n",
    "\n",
    "\n",
    "# 여기서 부턴 tesseract 사용\n",
    "# 추출된 region들을 확인해서 이미지에 뭔 문자들이 있는지 추출한다\n",
    "# 사이즈차트 경우 기본적으로 S, M, L, XL 의 조합들이 있으니\n",
    "# 사이즈차트 처럼(?)생긴 이미지만 저장한다고 생각하면 된다...\n",
    "tick = 0\n",
    "for group in regions:\n",
    "    groot = regions.get(group)\n",
    "    if len(groot) > 0:\n",
    "        groot.sort(key=sort_x)\n",
    "        gang = np.array(groot)\n",
    "        true_region = [np.amin(gang, axis=0)[2], np.amax(gang, axis=0)[3], np.amin(gang, axis=0)[0], np.amax(gang, axis=0)[1]]\n",
    "        print(true_region)\n",
    "        \n",
    "        text = pytesseract.image_to_string(orig[true_region[0]:true_region[1],0:orig.shape[1]])\n",
    "        results = text.split()\n",
    "        filtered = []\n",
    "        for result in results:\n",
    "            filtered.append(''.join(e for e in result if e.isalnum()).lower())\n",
    "            \n",
    "        print(filtered)\n",
    "        \n",
    "        size_check = []\n",
    "        for x in filtered:\n",
    "            if re.search(\"^s\", x):\n",
    "                if len(x) == 1:\n",
    "                    size_check.append(x)\n",
    "                elif x[-1].isnumeric():\n",
    "                    size_check.append(x)\n",
    "            elif re.search(\"^m\", x):\n",
    "                if len(x) == 1:\n",
    "                    size_check.append(x)\n",
    "                elif x[-1].isnumeric():\n",
    "                    size_check.append(x)\n",
    "            elif re.search(\"^l\", x):\n",
    "                if len(x) == 1:\n",
    "                    size_check.append(x)\n",
    "                elif x[-1].isnumeric():\n",
    "                    size_check.append(x)\n",
    "            elif re.search(\"^xl\", x):\n",
    "                if len(x) == 1:\n",
    "                    size_check.append(x)\n",
    "                elif x[-1].isnumeric():\n",
    "                    size_check.append(x)\n",
    "                \n",
    "        if len(size_check) > 1:\n",
    "            print('성공@@@@@@@@@@@@@@!@#(&*@(#ㅛ@*#&(*@&#(*&@#((*))))))')\n",
    "            cv2.imwrite(f'./check_size_{tick}.png', orig[true_region[0]:true_region[1],0:orig.shape[1]])\n",
    "            tick = tick + 1\n",
    "\n",
    "# \t# draw the bounding box on the image\n",
    "# \tcv2.rectangle(orig, (0, startY), (orig.shape[1], endY), (0, 255, 0), 2)\n",
    "\n",
    "# cv2.imshow(\"Text Detection\", orig)\n",
    "# while(True):\n",
    "# \tk = cv2.waitKey(33)\n",
    "# \tif k == -1:  # if no key was pressed, -1 is returned\n",
    "# \t\tcontinue\n",
    "# \telse:\n",
    "# \t\tbreak\n",
    "# cv2.destroyAllWindows()"
   ]
  },
  {
   "cell_type": "code",
   "execution_count": 30,
   "metadata": {},
   "outputs": [
    {
     "data": {
      "text/plain": [
       "'./crawling/images\\\\screen_shot_0_9.jpg'"
      ]
     },
     "execution_count": 30,
     "metadata": {},
     "output_type": "execute_result"
    }
   ],
   "source": [
    "image_file"
   ]
  },
  {
   "cell_type": "code",
   "execution_count": 31,
   "metadata": {},
   "outputs": [
    {
     "data": {
      "text/plain": [
       "<matplotlib.image.AxesImage at 0x17232e48>"
      ]
     },
     "execution_count": 31,
     "metadata": {},
     "output_type": "execute_result"
    },
    {
     "data": {
      "image/png": "[encoded data removed]",
      "text/plain": [
       "<Figure size 432x288 with 1 Axes>"
      ]
     },
     "metadata": {
      "needs_background": "light"
     },
     "output_type": "display_data"
    }
   ],
   "source": [
    "plt.imshow(cv2.imread(image_file))"
   ]
  },
  {
   "cell_type": "code",
   "execution_count": null,
   "metadata": {},
   "outputs": [],
   "source": []
  }
 ],
 "metadata": {
  "kernelspec": {
   "display_name": "Python [conda env:tmh_env] *",
   "language": "python",
   "name": "conda-env-tmh_env-py"
  },
  "language_info": {
   "codemirror_mode": {
    "name": "ipython",
    "version": 3
   },
   "file_extension": ".py",
   "mimetype": "text/x-python",
   "name": "python",
   "nbconvert_exporter": "python",
   "pygments_lexer": "ipython3",
   "version": "3.6.8"
  },
  "toc": {
   "base_numbering": 1,
   "nav_menu": {},
   "number_sections": true,
   "sideBar": true,
   "skip_h1_title": false,
   "title_cell": "Table of Contents",
   "title_sidebar": "Contents",
   "toc_cell": false,
   "toc_position": {},
   "toc_section_display": true,
   "toc_window_display": false
  }
 },
 "nbformat": 4,
 "nbformat_minor": 2
}
