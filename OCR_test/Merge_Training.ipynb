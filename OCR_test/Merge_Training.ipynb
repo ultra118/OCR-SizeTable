{
 "cells": [
  {
   "cell_type": "code",
   "execution_count": 1,
   "metadata": {},
   "outputs": [],
   "source": [
    "import os\n",
    "import cv2\n",
    "from PIL import Image"
   ]
  },
  {
   "cell_type": "code",
   "execution_count": 2,
   "metadata": {},
   "outputs": [],
   "source": [
    "file_path1 = ('C:/training_data/size_table1/')\n",
    "file_path2 = ('C:/training_data/size_table2/')"
   ]
  },
  {
   "cell_type": "code",
   "execution_count": 3,
   "metadata": {},
   "outputs": [],
   "source": [
    "file_origin = 'C:/training_data/origin_data/'\n",
    "split_path = 'C:/training_data/split_data/'"
   ]
  },
  {
   "cell_type": "code",
   "execution_count": 4,
   "metadata": {},
   "outputs": [
    {
     "data": {
      "text/plain": [
       "6008"
      ]
     },
     "execution_count": 4,
     "metadata": {},
     "output_type": "execute_result"
    }
   ],
   "source": [
    "2776+3232"
   ]
  },
  {
   "cell_type": "code",
   "execution_count": 4,
   "metadata": {},
   "outputs": [
    {
     "name": "stdout",
     "output_type": "stream",
     "text": [
      "100...\n",
      "200...\n",
      "300...\n",
      "400...\n",
      "500...\n",
      "600...\n",
      "700...\n",
      "800...\n",
      "900...\n",
      "1000...\n",
      "1100...\n",
      "1200...\n",
      "1300...\n",
      "1400...\n",
      "1500...\n",
      "1600...\n",
      "1700...\n",
      "1800...\n",
      "1900...\n",
      "2000...\n",
      "2100...\n",
      "2200...\n",
      "2300...\n",
      "2400...\n",
      "2500...\n",
      "2600...\n",
      "2700...\n",
      "2800...\n",
      "2900...\n",
      "3000...\n",
      "3100...\n",
      "3200...\n",
      "3300...\n",
      "3400...\n",
      "3500...\n",
      "3600...\n",
      "3700...\n",
      "3800...\n",
      "3900...\n",
      "4000...\n",
      "4100...\n",
      "4200...\n",
      "4300...\n",
      "4400...\n",
      "4500...\n",
      "4600...\n",
      "4700...\n",
      "4800...\n",
      "4900...\n",
      "5000...\n",
      "5100...\n",
      "5200...\n",
      "5300...\n",
      "5400...\n",
      "5500...\n",
      "5600...\n",
      "5700...\n",
      "5800...\n",
      "5900...\n"
     ]
    }
   ],
   "source": [
    "img_count = 1\n",
    "for file in os.listdir(file_path1):\n",
    "    try:\n",
    "        if img_count % 100 == 0:\n",
    "            print(f'{img_count}...')\n",
    "        if '.jpg' in file:\n",
    "            load_path = os.path.join(file_path1, file)\n",
    "            svae_path = os.path.join(file_origin, f'screen_shot_{img_count}.jpg')\n",
    "            with Image.open(load_path) as img:\n",
    "                img.save(svae_path)\n",
    "                img_count += 1\n",
    "    except:\n",
    "        print(f'error : {file}')\n",
    "        continue\n",
    "for file in os.listdir(file_path2):\n",
    "    try:\n",
    "        if img_count % 100 == 0:\n",
    "            print(f'{img_count}...')\n",
    "        if '.jpg' in file:\n",
    "            load_path = os.path.join(file_path2, file)\n",
    "            svae_path = os.path.join(file_origin, f'screen_shot_{img_count}.jpg')\n",
    "            with Image.open(load_path) as img:\n",
    "                img.save(svae_path)\n",
    "                img_count += 1\n",
    "    except:\n",
    "        print(f'error : {file}')\n",
    "        continue"
   ]
  },
  {
   "cell_type": "code",
   "execution_count": null,
   "metadata": {},
   "outputs": [],
   "source": []
  }
 ],
 "metadata": {
  "kernelspec": {
   "display_name": "Python [conda env:tmh_env] *",
   "language": "python",
   "name": "conda-env-tmh_env-py"
  },
  "language_info": {
   "codemirror_mode": {
    "name": "ipython",
    "version": 3
   },
   "file_extension": ".py",
   "mimetype": "text/x-python",
   "name": "python",
   "nbconvert_exporter": "python",
   "pygments_lexer": "ipython3",
   "version": "3.6.8"
  },
  "toc": {
   "base_numbering": 1,
   "nav_menu": {},
   "number_sections": true,
   "sideBar": true,
   "skip_h1_title": false,
   "title_cell": "Table of Contents",
   "title_sidebar": "Contents",
   "toc_cell": false,
   "toc_position": {},
   "toc_section_display": true,
   "toc_window_display": false
  }
 },
 "nbformat": 4,
 "nbformat_minor": 2
}
