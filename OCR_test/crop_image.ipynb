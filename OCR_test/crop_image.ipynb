{
 "cells": [
  {
   "cell_type": "markdown",
   "metadata": {},
   "source": [
    "# 공백으로 image split\n",
    "- 같은 색상이 x좌표에 나오는게 80줄 이상이면 이 점을 기준으로 split\n",
    "- "
   ]
  },
  {
   "cell_type": "code",
   "execution_count": 11,
   "metadata": {},
   "outputs": [],
   "source": [
    "import cv2\n",
    "import numpy as np\n",
    "import matplotlib.pyplot as plt\n",
    "import os"
   ]
  },
  {
   "cell_type": "markdown",
   "metadata": {},
   "source": [
    "## x경로에 같은 값이 여러 row를 거처 나오면 split"
   ]
  },
  {
   "cell_type": "code",
   "execution_count": 13,
   "metadata": {},
   "outputs": [],
   "source": [
    "# split function\n",
    "def split_img(img):\n",
    "    y_shape = img.shape[0]\n",
    "    x_shape = img.shape[1]\n",
    "    \n",
    "    ck_color = 0\n",
    "    split_point_y = []\n",
    "    for i in range(y_shape):\n",
    "        for j in range(0, x_shape, 20):\n",
    "            # x좌표 첫번쨰의 color\n",
    "            \n",
    "            if img[i][0] == img[i][j]:\n",
    "                ck_color += 1\n",
    "            else :\n",
    "                ck_color = 0\n",
    "                break; \n",
    "        if ck_color > ((x_shape/20) * 80):\n",
    "            split_point_y.append(i)\n",
    "            ck_color = 0\n",
    "\n",
    "    split_img_list = []\n",
    "\n",
    "    start = 0\n",
    "    for point in split_point_y:\n",
    "        split_img_list.append(img[start:point][:])\n",
    "        start = point\n",
    "    split_img_list.append(img[start:][:])\n",
    "    \n",
    "    print('len(split_point_y) : {} '.format(len(split_point_y)))\n",
    "    print('len(split_img_list) : {} '.format(len(split_img_list)))\n",
    "    \n",
    "    return split_img_list\n"
   ]
  },
  {
   "cell_type": "code",
   "execution_count": 14,
   "metadata": {},
   "outputs": [],
   "source": [
    "dir_path = './data/image'\n",
    "save_dir_path = './data/dataset/'"
   ]
  },
  {
   "cell_type": "code",
   "execution_count": 15,
   "metadata": {},
   "outputs": [
    {
     "name": "stdout",
     "output_type": "stream",
     "text": [
      "im6.jpg****************\n",
      "len(split_point_y) : 7 \n",
      "len(split_img_list) : 8 \n",
      "img1.jpg****************\n",
      "len(split_point_y) : 4 \n",
      "len(split_img_list) : 5 \n",
      "img10.jpg****************\n",
      "len(split_point_y) : 5 \n",
      "len(split_img_list) : 6 \n",
      "img11.jpg****************\n",
      "len(split_point_y) : 1 \n",
      "len(split_img_list) : 2 \n",
      "img12.jpg****************\n",
      "len(split_point_y) : 2 \n",
      "len(split_img_list) : 3 \n",
      "img13.jpg****************\n",
      "len(split_point_y) : 0 \n",
      "len(split_img_list) : 1 \n",
      "img14.jpg****************\n",
      "len(split_point_y) : 11 \n",
      "len(split_img_list) : 12 \n",
      "img15.jpg****************\n",
      "len(split_point_y) : 3 \n",
      "len(split_img_list) : 4 \n",
      "img16.jpg****************\n",
      "len(split_point_y) : 9 \n",
      "len(split_img_list) : 10 \n",
      "img17.jpg****************\n",
      "len(split_point_y) : 9 \n",
      "len(split_img_list) : 10 \n",
      "img18.jpg****************\n",
      "len(split_point_y) : 6 \n",
      "len(split_img_list) : 7 \n",
      "img19.jpg****************\n",
      "len(split_point_y) : 18 \n",
      "len(split_img_list) : 19 \n",
      "img20.jpg****************\n",
      "len(split_point_y) : 0 \n",
      "len(split_img_list) : 1 \n",
      "img21.jpg****************\n",
      "len(split_point_y) : 1 \n",
      "len(split_img_list) : 2 \n",
      "img22.jpg****************\n",
      "len(split_point_y) : 10 \n",
      "len(split_img_list) : 11 \n",
      "img23.jpg****************\n",
      "len(split_point_y) : 11 \n",
      "len(split_img_list) : 12 \n",
      "img24.jpg****************\n",
      "len(split_point_y) : 6 \n",
      "len(split_img_list) : 7 \n",
      "img25.jpg****************\n",
      "len(split_point_y) : 9 \n",
      "len(split_img_list) : 10 \n",
      "img3.PNG****************\n",
      "len(split_point_y) : 0 \n",
      "len(split_img_list) : 1 \n",
      "img4.jpg****************\n",
      "len(split_point_y) : 0 \n",
      "len(split_img_list) : 1 \n",
      "img5.jpg****************\n",
      "len(split_point_y) : 16 \n",
      "len(split_img_list) : 17 \n",
      "img7.jpg****************\n",
      "len(split_point_y) : 3 \n",
      "len(split_img_list) : 4 \n",
      "img8.jpg****************\n",
      "len(split_point_y) : 3 \n",
      "len(split_img_list) : 4 \n",
      "img9.jpg****************\n",
      "len(split_point_y) : 8 \n",
      "len(split_img_list) : 9 \n"
     ]
    }
   ],
   "source": [
    "file_list = os.listdir(dir_path)\n",
    "img_list = []\n",
    "for f in file_list:\n",
    "    try:\n",
    "        print(f'{f}****************')\n",
    "        img = cv2.imread(os.path.join(dir_path, f))\n",
    "        gray_img = cv2.cvtColor(img, cv2.COLOR_BGR2GRAY)\n",
    "        crop_list = [crop_img for crop_img in split_img(gray_img)]\n",
    "        save_path = save_dir_path + f.split('.')[0]\n",
    "        i = 0\n",
    "        for crop_img in crop_list:\n",
    "            # y길이가 너무 짧은건 탈락\n",
    "            if crop_img.shape[0] > 100:\n",
    "                i += 1\n",
    "                crop_save_path = save_path + '_' + str(i) + '.jpg'\n",
    "                cv2.imwrite(crop_save_path, crop_img)\n",
    "    except:\n",
    "        print(f'{f}파일은 읽을 수 없음')\n",
    "        pass\n",
    "    "
   ]
  },
  {
   "cell_type": "code",
   "execution_count": null,
   "metadata": {},
   "outputs": [],
   "source": []
  }
 ],
 "metadata": {
  "kernelspec": {
   "display_name": "tmh_env",
   "language": "python",
   "name": "tmh_env"
  },
  "language_info": {
   "codemirror_mode": {
    "name": "ipython",
    "version": 3
   },
   "file_extension": ".py",
   "mimetype": "text/x-python",
   "name": "python",
   "nbconvert_exporter": "python",
   "pygments_lexer": "ipython3",
   "version": "3.6.8"
  },
  "toc": {
   "base_numbering": 1.0,
   "nav_menu": {},
   "number_sections": true,
   "sideBar": true,
   "skip_h1_title": false,
   "title_cell": "Table of Contents",
   "title_sidebar": "Contents",
   "toc_cell": false,
   "toc_position": {},
   "toc_section_display": true,
   "toc_window_display": false
  }
 },
 "nbformat": 4,
 "nbformat_minor": 2
}
